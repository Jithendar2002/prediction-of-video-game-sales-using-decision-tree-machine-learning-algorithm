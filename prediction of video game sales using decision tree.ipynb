{
 "cells": [
  {
   "cell_type": "code",
   "execution_count": 1,
   "metadata": {},
   "outputs": [],
   "source": [
    "import pandas as pd"
   ]
  },
  {
   "cell_type": "code",
   "execution_count": 2,
   "metadata": {},
   "outputs": [],
   "source": [
    "import numpy as np"
   ]
  },
  {
   "cell_type": "code",
   "execution_count": 3,
   "metadata": {},
   "outputs": [],
   "source": [
    "dataset = pd.read_csv('Video_Games_Sales_as_at_22_Dec_2016.csv')"
   ]
  },
  {
   "cell_type": "code",
   "execution_count": 4,
   "metadata": {},
   "outputs": [],
   "source": [
    "dataset.drop(columns = ['Year_of_Release', 'Developer', 'Publisher', 'Platform'], inplace = True)"
   ]
  },
  {
   "cell_type": "code",
   "execution_count": 5,
   "metadata": {},
   "outputs": [
    {
     "name": "stdout",
     "output_type": "stream",
     "text": [
      "Feature name || Total missing values\n",
      "Name               2\n",
      "Genre              2\n",
      "NA_Sales           0\n",
      "EU_Sales           0\n",
      "JP_Sales           0\n",
      "Other_Sales        0\n",
      "Global_Sales       0\n",
      "Critic_Score    8582\n",
      "Critic_Count    8582\n",
      "User_Score      9129\n",
      "User_Count      9129\n",
      "Rating          6769\n",
      "dtype: int64\n"
     ]
    }
   ],
   "source": [
    "print('Feature name || Total missing values')\n",
    "print(dataset.isna().sum())"
   ]
  },
  {
   "cell_type": "code",
   "execution_count": 6,
   "metadata": {},
   "outputs": [],
   "source": [
    "X = dataset.iloc[:, :].values\n",
    "X = np.delete(X, 6, 1)\n",
    "y = dataset.iloc[:, 6:7].values"
   ]
  },
  {
   "cell_type": "code",
   "execution_count": 7,
   "metadata": {},
   "outputs": [
    {
     "name": "stdout",
     "output_type": "stream",
     "text": [
      "Feature name || Total missing values\n",
      "Name               2\n",
      "Genre              2\n",
      "NA_Sales           0\n",
      "EU_Sales           0\n",
      "JP_Sales           0\n",
      "Other_Sales        0\n",
      "Global_Sales       0\n",
      "Critic_Score    8582\n",
      "Critic_Count    8582\n",
      "User_Score      9129\n",
      "User_Count      9129\n",
      "Rating          6769\n",
      "dtype: int64\n"
     ]
    }
   ],
   "source": [
    "print('Feature name || Total missing values')\n",
    "print(dataset.isna().sum())"
   ]
  },
  {
   "cell_type": "code",
   "execution_count": 8,
   "metadata": {},
   "outputs": [],
   "source": [
    "from sklearn.model_selection import train_test_split\n",
    "X_train, X_test, y_train, y_test = train_test_split(X, y, test_size = 0.3, random_state = 0)"
   ]
  },
  {
   "cell_type": "code",
   "execution_count": 9,
   "metadata": {},
   "outputs": [],
   "source": [
    "games_in_training_set = X_train[:, 0]\n",
    "games_in_test_set = X_test[:, 0]"
   ]
  },
  {
   "cell_type": "code",
   "execution_count": 10,
   "metadata": {},
   "outputs": [],
   "source": [
    "X_train = X_train[:, 1:]\n",
    "X_test = X_test[:, 1:]"
   ]
  },
  {
   "cell_type": "code",
   "execution_count": 11,
   "metadata": {},
   "outputs": [],
   "source": [
    "from sklearn.impute import SimpleImputer\n",
    "imputer = SimpleImputer(strategy = 'mean')\n",
    "X_train[:, [5 ,6, 7, 8]] = imputer.fit_transform(X_train[:, [5, 6, 7, 8]])\n",
    "X_test[:, [5 ,6, 7, 8]] = imputer.transform(X_test[:, [5, 6, 7, 8]])"
   ]
  },
  {
   "cell_type": "code",
   "execution_count": 12,
   "metadata": {},
   "outputs": [
    {
     "name": "stdout",
     "output_type": "stream",
     "text": [
      "Requirement already satisfied: sklearn-pandas in e:\\others\\anaconda\\lib\\site-packages (2.2.0)\n",
      "Requirement already satisfied: pandas>=1.1.4 in e:\\others\\anaconda\\lib\\site-packages (from sklearn-pandas) (1.4.2)\n",
      "Requirement already satisfied: numpy>=1.18.1 in e:\\others\\anaconda\\lib\\site-packages (from sklearn-pandas) (1.18.5)\n",
      "Requirement already satisfied: scipy>=1.5.1 in e:\\others\\anaconda\\lib\\site-packages (from sklearn-pandas) (1.8.0)\n",
      "Requirement already satisfied: scikit-learn>=0.23.0 in e:\\others\\anaconda\\lib\\site-packages (from sklearn-pandas) (0.23.1)\n",
      "Requirement already satisfied: pytz>=2020.1 in e:\\others\\anaconda\\lib\\site-packages (from pandas>=1.1.4->sklearn-pandas) (2020.1)\n",
      "Requirement already satisfied: python-dateutil>=2.8.1 in e:\\others\\anaconda\\lib\\site-packages (from pandas>=1.1.4->sklearn-pandas) (2.8.1)\n",
      "Requirement already satisfied: threadpoolctl>=2.0.0 in e:\\others\\anaconda\\lib\\site-packages (from scikit-learn>=0.23.0->sklearn-pandas) (2.1.0)\n",
      "Requirement already satisfied: joblib>=0.11 in e:\\others\\anaconda\\lib\\site-packages (from scikit-learn>=0.23.0->sklearn-pandas) (0.16.0)\n",
      "Requirement already satisfied: six>=1.5 in e:\\others\\anaconda\\lib\\site-packages (from python-dateutil>=2.8.1->pandas>=1.1.4->sklearn-pandas) (1.15.0)\n",
      "Note: you may need to restart the kernel to use updated packages.\n"
     ]
    }
   ],
   "source": [
    "pip install sklearn-pandas"
   ]
  },
  {
   "cell_type": "code",
   "execution_count": 13,
   "metadata": {},
   "outputs": [],
   "source": [
    "from sklearn.impute import SimpleImputer\n",
    "categorical_imputer = SimpleImputer(strategy = 'constant', fill_value = 'NA')\n",
    "X_train[:, [0, 9]] = categorical_imputer.fit_transform(X_train[:, [0, 9]])\n",
    "X_test[:, [0, 9]] = categorical_imputer.transform(X_test[:, [0, 9]])"
   ]
  },
  {
   "cell_type": "code",
   "execution_count": 14,
   "metadata": {},
   "outputs": [],
   "source": [
    "from sklearn.compose import ColumnTransformer\n",
    "from sklearn.preprocessing import OneHotEncoder\n",
    "ct = ColumnTransformer(transformers = [('encoder', OneHotEncoder(), [0, 9])], remainder = 'passthrough') \n",
    "X_train = ct.fit_transform(X_train)\n",
    "X_test = ct.transform(X_test)"
   ]
  },
  {
   "cell_type": "code",
   "execution_count": 15,
   "metadata": {},
   "outputs": [
    {
     "name": "stdout",
     "output_type": "stream",
     "text": [
      "Requirement already satisfied: xgboost in e:\\others\\anaconda\\lib\\site-packages (1.5.2)\n",
      "Requirement already satisfied: numpy in e:\\others\\anaconda\\lib\\site-packages (from xgboost) (1.18.5)\n",
      "Requirement already satisfied: scipy in e:\\others\\anaconda\\lib\\site-packages (from xgboost) (1.8.0)\n",
      "Note: you may need to restart the kernel to use updated packages.\n"
     ]
    }
   ],
   "source": [
    "pip install xgboost"
   ]
  },
  {
   "cell_type": "code",
   "execution_count": 16,
   "metadata": {},
   "outputs": [
    {
     "name": "stderr",
     "output_type": "stream",
     "text": [
      "E:\\others\\anaconda\\lib\\site-packages\\xgboost\\compat.py:36: FutureWarning: pandas.Int64Index is deprecated and will be removed from pandas in a future version. Use pandas.Index with the appropriate dtype instead.\n",
      "  from pandas import MultiIndex, Int64Index\n"
     ]
    },
    {
     "data": {
      "text/plain": [
       "XGBRegressor(base_score=0.5, booster='gbtree', colsample_bylevel=1,\n",
       "             colsample_bynode=1, colsample_bytree=1, enable_categorical=False,\n",
       "             gamma=0, gpu_id=-1, importance_type=None,\n",
       "             interaction_constraints='', learning_rate=0.08, max_delta_step=0,\n",
       "             max_depth=6, min_child_weight=1, missing=nan,\n",
       "             monotone_constraints='()', n_estimators=200, n_jobs=8,\n",
       "             num_parallel_tree=1, predictor='auto', random_state=0, reg_alpha=0,\n",
       "             reg_lambda=1, scale_pos_weight=1, subsample=1, tree_method='exact',\n",
       "             validate_parameters=1, verbosity=None)"
      ]
     },
     "execution_count": 16,
     "metadata": {},
     "output_type": "execute_result"
    }
   ],
   "source": [
    "from xgboost import XGBRegressor\n",
    "model = XGBRegressor(n_estimators = 200, learning_rate= 0.08)\n",
    "model.fit(X_train, y_train)"
   ]
  },
  {
   "cell_type": "code",
   "execution_count": 17,
   "metadata": {},
   "outputs": [],
   "source": [
    "y_pred = model.predict(X_test)"
   ]
  },
  {
   "cell_type": "code",
   "execution_count": 18,
   "metadata": {},
   "outputs": [],
   "source": [
    "games_in_test_set = games_in_test_set.reshape(-1, 1)\n",
    "y_pred = y_pred.reshape(-1, 1)\n",
    "predictions = np.concatenate([games_in_test_set, y_pred, y_test], axis = 1)\n",
    "predictions = pd.DataFrame(predictions, columns = ['Name', 'Predicted_Global_Sales', 'Actual_Global_Sales'])"
   ]
  },
  {
   "cell_type": "code",
   "execution_count": 19,
   "metadata": {},
   "outputs": [
    {
     "name": "stdout",
     "output_type": "stream",
     "text": [
      "                                Name Predicted_Global_Sales  \\\n",
      "0                       R-Type Final               0.186028   \n",
      "1       The Terminator: Dawn of Fate                0.41634   \n",
      "2        Dead to Rights: Retribution               0.293324   \n",
      "3              Skylanders SWAP Force               2.169221   \n",
      "4                               DiRT               1.161763   \n",
      "...                              ...                    ...   \n",
      "5011                Dynasty Warriors               0.457753   \n",
      "5012  Transformers: Dark of the Moon               0.171426   \n",
      "5013           Brunswick Pro Bowling               0.204492   \n",
      "5014       Valentino Rossi: The Game               0.067381   \n",
      "5015         Street Fighter X Tekken               0.193131   \n",
      "\n",
      "     Actual_Global_Sales  \n",
      "0                   0.19  \n",
      "1                   0.41  \n",
      "2                   0.28  \n",
      "3                   2.15  \n",
      "4                   1.05  \n",
      "...                  ...  \n",
      "5011                0.51  \n",
      "5012                0.17  \n",
      "5013                0.21  \n",
      "5014                0.08  \n",
      "5015                0.19  \n",
      "\n",
      "[5016 rows x 3 columns]\n"
     ]
    }
   ],
   "source": [
    "print(predictions)"
   ]
  },
  {
   "cell_type": "code",
   "execution_count": 20,
   "metadata": {},
   "outputs": [
    {
     "name": "stdout",
     "output_type": "stream",
     "text": [
      "r2 score of the model : 0.732\n",
      "Root Mean Squared Error of the model : 0.743\n"
     ]
    }
   ],
   "source": [
    "from sklearn.metrics import r2_score, mean_squared_error\n",
    "import math\n",
    "r2_score = r2_score(y_test, y_pred)\n",
    "rmse = math.sqrt(mean_squared_error(y_test, y_pred))\n",
    "\n",
    "print(f\"r2 score of the model : {r2_score:.3f}\")\n",
    "print(f\"Root Mean Squared Error of the model : {rmse:.3f}\")"
   ]
  },
  {
   "cell_type": "code",
   "execution_count": null,
   "metadata": {},
   "outputs": [],
   "source": []
  }
 ],
 "metadata": {
  "kernelspec": {
   "display_name": "Python 3",
   "language": "python",
   "name": "python3"
  },
  "language_info": {
   "codemirror_mode": {
    "name": "ipython",
    "version": 3
   },
   "file_extension": ".py",
   "mimetype": "text/x-python",
   "name": "python",
   "nbconvert_exporter": "python",
   "pygments_lexer": "ipython3",
   "version": "3.8.3"
  }
 },
 "nbformat": 4,
 "nbformat_minor": 4
}
